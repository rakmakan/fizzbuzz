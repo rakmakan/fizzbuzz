{
 "cells": [
  {
   "cell_type": "code",
   "execution_count": 21,
   "id": "496ba367",
   "metadata": {},
   "outputs": [
    {
     "data": {
      "text/plain": [
       "'[[{\"label\":\"pos\",\"score\":0.9991503953933716},{\"label\":\"neg\",\"score\":0.0008496390073560178}]]\\n'"
      ]
     },
     "execution_count": 21,
     "metadata": {},
     "output_type": "execute_result"
    }
   ],
   "source": [
    "import requests\n",
    "\n",
    "text = {\n",
    "    \"text\" : \"\"\"\n",
    "  Rarely do you get a sequel that measures well against a Blockbuster \n",
    "like what Top Gun  was.  But I have to say, excitedly, Maverick does just that.\n",
    "I was so pleasantly surprised.  It was fantastic...... can't wait to go see it again.  \n",
    "I'm a private pilot and I really enjoyed the action here.  Great stunt flying by this \n",
    "highly skilled team of aviators.  The cast was great.... Jon Hamm stood out to me as a big presence.  \n",
    "Jennifer Connelly looked fantastic.... the romance scenes were extremely tasteful and did not detract \n",
    "at all from the core 'action' of this film.  The cinematography was first rate, the story was solid, \n",
    "the acting was spot on.  Jerry Bruckheimer preserved the 'magic' and there was enough reference material \n",
    "in the movie to remind or retell the original story for those who had not seen Top Gun, to keep everyone \n",
    "up to speed.  Bringing back Val Kilmer was a nice touch as well.  Great story they put together to work\n",
    "that in.  Thanks so much Cast and Crew!!  Tom Cruise still has 'it'........My daughters (18,27) \n",
    "loved it as well.......Highly Recommend!!\n",
    "    \n",
    "    \"\"\"\n",
    "    \n",
    "}\n",
    "\n",
    "\n",
    "r = requests.post(\"http://0.0.0.0:4000/predict\",data=text)\n",
    "r.text"
   ]
  },
  {
   "cell_type": "code",
   "execution_count": null,
   "id": "46e90917",
   "metadata": {},
   "outputs": [],
   "source": []
  },
  {
   "cell_type": "code",
   "execution_count": null,
   "id": "4c8f212f",
   "metadata": {},
   "outputs": [],
   "source": []
  }
 ],
 "metadata": {
  "kernelspec": {
   "display_name": "Python 3 (ipykernel)",
   "language": "python",
   "name": "python3"
  },
  "language_info": {
   "codemirror_mode": {
    "name": "ipython",
    "version": 3
   },
   "file_extension": ".py",
   "mimetype": "text/x-python",
   "name": "python",
   "nbconvert_exporter": "python",
   "pygments_lexer": "ipython3",
   "version": "3.9.7"
  }
 },
 "nbformat": 4,
 "nbformat_minor": 5
}
